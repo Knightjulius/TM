{
 "cells": [
  {
   "cell_type": "code",
   "execution_count": 1,
   "metadata": {},
   "outputs": [
    {
     "name": "stderr",
     "output_type": "stream",
     "text": [
      "[nltk_data] Downloading package punkt to\n",
      "[nltk_data]     C:\\Users\\Juliu\\AppData\\Roaming\\nltk_data...\n",
      "[nltk_data]   Package punkt is already up-to-date!\n",
      "[nltk_data] Downloading package stopwords to\n",
      "[nltk_data]     C:\\Users\\Juliu\\AppData\\Roaming\\nltk_data...\n",
      "[nltk_data]   Package stopwords is already up-to-date!\n",
      "[nltk_data] Downloading package wordnet to\n",
      "[nltk_data]     C:\\Users\\Juliu\\AppData\\Roaming\\nltk_data...\n",
      "[nltk_data]   Package wordnet is already up-to-date!\n",
      "[nltk_data] Downloading package punkt_tab to\n",
      "[nltk_data]     C:\\Users\\Juliu\\AppData\\Roaming\\nltk_data...\n",
      "[nltk_data]   Package punkt_tab is already up-to-date!\n"
     ]
    }
   ],
   "source": [
    "from datasets import load_dataset\n",
    "from transformers import AutoTokenizer\n",
    "import datasets\n",
    "from transformers import DataCollatorForTokenClassification\n",
    "from transformers import TFAutoModelForTokenClassification\n",
    "from transformers import create_optimizer\n",
    "import tensorflow as tf\n",
    "import evaluate\n",
    "import numpy as np\n",
    "from seqeval.metrics import classification_report as seqeval_classification_report\n",
    "import pandas as pd\n",
    "from collections import Counter\n",
    "import random\n",
    "import os\n",
    "\n",
    "import string\n",
    "import nltk\n",
    "from nltk.tokenize import word_tokenize\n",
    "from nltk.corpus import stopwords\n",
    "from nltk.stem import WordNetLemmatizer\n",
    "from sklearn.feature_extraction.text import TfidfVectorizer\n",
    "from sklearn.model_selection import train_test_split\n",
    "import joblib\n",
    "\n",
    "# Download necessary nltk resources\n",
    "nltk.download('punkt')\n",
    "nltk.download('stopwords')\n",
    "nltk.download('wordnet')\n",
    "nltk.download('punkt_tab')\n",
    "\n",
    "# Define preprocessing functions\n",
    "stop_words = set(stopwords.words('english'))\n",
    "lemmatizer = WordNetLemmatizer()"
   ]
  },
  {
   "cell_type": "code",
   "execution_count": 2,
   "metadata": {},
   "outputs": [],
   "source": [
    "# Step 1 Load Text data\n",
    "\n",
    "text_folder = 'cadec/text'\n",
    "text_data = []\n",
    "\n",
    "for file_name in os.listdir(text_folder):\n",
    "    if file_name.endswith('.txt'):\n",
    "        with open(os.path.join(text_folder, file_name), 'r') as file:\n",
    "            text_data.append(file.read())"
   ]
  },
  {
   "cell_type": "code",
   "execution_count": 3,
   "metadata": {},
   "outputs": [],
   "source": [
    "# Step 2 Preprocessing steps\n",
    "# Think about what we want? lowercase, tokenization, removing noise, lemmatization/stemming, handling special characters (&, %)\n",
    "# Function to preprocess text (lowercase, tokenize, remove punctuation, lemmatize)\n",
    "def preprocess_text(text):\n",
    "    text = text.lower()  # Lowercase the text\n",
    "    text = ''.join([char for char in text if char not in string.punctuation])  # Remove punctuation\n",
    "    tokens = word_tokenize(text)  # Tokenize text\n",
    "    tokens = [lemmatizer.lemmatize(word) for word in tokens if word not in stop_words]  # Lemmatize and remove stopwords\n",
    "    return \" \".join(tokens)  # Return the cleaned text\n",
    "\n",
    "# Preprocess the text data\n",
    "cleaned_data = [preprocess_text(post) for post in text_data]"
   ]
  },
  {
   "cell_type": "code",
   "execution_count": 4,
   "metadata": {},
   "outputs": [],
   "source": [
    "# Step 3 Aligning \n",
    "# using original for now but we need to think about which one we actually want\n",
    "\n",
    "# Function to load annotations from a file\n",
    "def load_annotations(annotations_folder):\n",
    "    annotations = {}\n",
    "    for file_name in os.listdir(annotations_folder):\n",
    "        if file_name.endswith('.ann'):\n",
    "            with open(os.path.join(annotations_folder, file_name), 'r') as file:\n",
    "                annotations[file_name] = [line.strip() for line in file.readlines()]\n",
    "    return annotations\n",
    "\n",
    "# Load and process the annotations (from 'original', 'meddra', 'sct' folders)\n",
    "original_folder = 'cadec/original'\n",
    "meddra_folder = 'cadec/meddra'\n",
    "sct_folder = 'cadec/sct'\n",
    "\n",
    "original_annotations = load_annotations(original_folder)\n",
    "meddra_annotations = load_annotations(meddra_folder)\n",
    "sct_annotations = load_annotations(sct_folder)"
   ]
  },
  {
   "cell_type": "code",
   "execution_count": 28,
   "metadata": {},
   "outputs": [],
   "source": [
    "# Step 4 map to text\n",
    "# using original for now\n",
    "\n"
   ]
  },
  {
   "cell_type": "code",
   "execution_count": null,
   "metadata": {},
   "outputs": [],
   "source": [
    "# Step 5 Create features (tf-idf matrix)\n"
   ]
  },
  {
   "cell_type": "code",
   "execution_count": null,
   "metadata": {},
   "outputs": [],
   "source": [
    "# Step 6 split and store data\n"
   ]
  }
 ],
 "metadata": {
  "kernelspec": {
   "display_name": "Python 3",
   "language": "python",
   "name": "python3"
  },
  "language_info": {
   "codemirror_mode": {
    "name": "ipython",
    "version": 3
   },
   "file_extension": ".py",
   "mimetype": "text/x-python",
   "name": "python",
   "nbconvert_exporter": "python",
   "pygments_lexer": "ipython3",
   "version": "3.11.5"
  }
 },
 "nbformat": 4,
 "nbformat_minor": 2
}
